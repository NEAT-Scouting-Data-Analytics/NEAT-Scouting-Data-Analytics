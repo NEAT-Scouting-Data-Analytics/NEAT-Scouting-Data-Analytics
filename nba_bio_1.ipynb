{
 "cells": [
  {
   "cell_type": "markdown",
   "id": "7ef4842c",
   "metadata": {},
   "source": [
    "## Scraping bio data (height, weight, nationality) from NBA Stats  "
   ]
  },
  {
   "cell_type": "code",
   "execution_count": null,
   "id": "942ec36b",
   "metadata": {},
   "outputs": [],
   "source": [
    "import pandas as pd\n",
    "import requests\n",
    "pd.set_option('display.max_columns', None) # so we can see all columns in a wide DataFrame\n",
    "import time\n",
    "import numpy as np"
   ]
  },
  {
   "cell_type": "code",
   "execution_count": null,
   "id": "d7954fbb",
   "metadata": {},
   "outputs": [],
   "source": [
    "raw_api_url ='https://stats.nba.com/stats/leaguedashplayerbiostats?College=&Conference=&Country=&DateFrom=&DateTo=&Division=&DraftPick=&DraftYear=&GameScope=&GameSegment=&Height=&ISTRound=&LastNGames=0&LeagueID=00&Location=&Month=0&OpponentTeamID=0&Outcome=&PORound=0&PerMode=Totals&Period=0&PlayerExperience=&PlayerPosition=&Season=2023-24&SeasonSegment=&SeasonType=Regular Season&ShotClockRange=&StarterBench=&TeamID=0&VsConference=&VsDivision=&Weight='"
   ]
  },
  {
   "cell_type": "code",
   "execution_count": null,
   "id": "135b0a9c",
   "metadata": {},
   "outputs": [],
   "source": [
    "headers = {\n",
    "    'Accept': '*/*', \n",
    "    'Accept-Encoding': 'gzip, deflate, br, zstd',\n",
    "    'Accept-Language': 'de-DE,de;q=0.9,en-US;q=0.8,en;q=0.7',\n",
    "    'Connection': 'keep-alive',\n",
    "    'Host': 'stats.nba.com',\n",
    "    'Origin': 'https://www.nba.com',\n",
    "    'Referer': 'https://www.nba.com/',\n",
    "    'Sec-Fetch-Dest': 'empty',\n",
    "    'Sec-Fetch-Mode': 'cors',\n",
    "    'Sec-Fetch-Site': 'same-site',\n",
    "    'User-Agent': 'Mozilla/5.0 (Macintosh; Intel Mac OS X 10.15; rv:123.0) Gecko/20100101 Firefox/123.0'\n",
    "}"
   ]
  },
  {
   "cell_type": "code",
   "execution_count": null,
   "id": "83d6671f",
   "metadata": {},
   "outputs": [],
   "source": [
    "r = requests.get(url=raw_api_url, headers=headers).json() #parses return as JSON and returns a Python object(dictionary) \n",
    "r"
   ]
  },
  {
   "cell_type": "code",
   "execution_count": null,
   "id": "2581a034",
   "metadata": {},
   "outputs": [],
   "source": [
    "# Accessing the headers and resultSets in dict.\n",
    "\n",
    "df_cols_short = r['resultSets']['headers']\n",
    "\n",
    "df_cols_short"
   ]
  },
  {
   "cell_type": "code",
   "execution_count": null,
   "id": "882bbd61",
   "metadata": {},
   "outputs": [],
   "source": [
    "col = r['resultSets'][0]['rowSet']\n",
    "col"
   ]
  },
  {
   "cell_type": "code",
   "execution_count": null,
   "id": "f623a521",
   "metadata": {},
   "outputs": [],
   "source": [
    "df_cols = ['Year','Season_type'] + df_cols_short\n",
    "\n",
    "years = ['1996-97', '1997-98', '1998-99', '1999-00', '2000-01', '2001-02', '2002-03', '2003-04', '2004-05', '2005-06', '2006-07', '2007-08', '2008-09', '2009-10', '2010-11', '2011-12',\n",
    "         '2012-13','2013-14','2014-15','2015-16','2016-17','2017-18','2018-19','2019-20','2020-21','2021-22']\n",
    "season_types = ['Regular%20Season','Playoffs']\n",
    "\n",
    "df = pd.DataFrame(columns=df_cols)\n",
    "df"
   ]
  },
  {
   "cell_type": "code",
   "execution_count": null,
   "id": "f43e65f0",
   "metadata": {},
   "outputs": [],
   "source": [
    "# begin_loop = time.time()\n",
    "df = pd.DataFrame()\n",
    "for y in years:\n",
    "    for s in season_types:\n",
    "        api_url = \"https://stats.nba.com/stats/leaguedashplayerbiostats?College=&Conference=&Country=&DateFrom=&DateTo=&Division=&DraftPick=&DraftYear=&GameScope=&GameSegment=&Height=&ISTRound=&LastNGames=0&LeagueID=00&Location=&Month=0&OpponentTeamID=0&Outcome=&PORound=0&PerMode=Totals&Period=0&PlayerExperience=&PlayerPosition=&Season=\"+y+\"&SeasonSegment=&SeasonType=\"+s+\"&ShotClockRange=&StarterBench=&TeamID=0&VsConference=&VsDivision=&Weight=\"\n",
    "        r = requests.get(url=api_url, headers=headers).json()\n",
    "        data = r['resultSets'][0]['rowSet']\n",
    "        columns = r['resultSets'][0]['headers']\n",
    "        temp_df1 = pd.DataFrame(data, columns=columns)\n",
    "        temp_df1['Year'] = y\n",
    "        temp_df1['Season'] = s\n",
    "        df = pd.concat([df, temp_df1])\n",
    "        \n",
    "        # temp_df2 = pd.DataFrame({'Year':[y for i in range(len(temp_df1))],\n",
    "        #                          'Season_type':[s for i in range(len(temp_df1))]})\n",
    "        # temp_df3 = pd.concat([temp_df2, temp_df1], axis=1)\n",
    "        # df = pd.concat([df, temp_df3], axis=0)\n",
    "\n",
    "#         print(f'Finished scraping data from the {y} {s}')\n",
    "#         lag = np.random.uniform(low=20, high=40)\n",
    "#         print(f'...waiting {round(lag,1)} seconds...')\n",
    "#         time.sleep(lag)\n",
    "# print(f'Process completed!! Total run time: {round(time.time()-begin_loop,1)} seconds')"
   ]
  },
  {
   "cell_type": "code",
   "execution_count": null,
   "id": "2f0188f6",
   "metadata": {},
   "outputs": [],
   "source": [
    "df"
   ]
  },
  {
   "cell_type": "code",
   "execution_count": null,
   "id": "f8960646",
   "metadata": {},
   "outputs": [],
   "source": [
    "df_1996 = df[df['Year'] == '1996-97']\n",
    "df_1996[df_1996['PLAYER_ID'] == 893]\n"
   ]
  },
  {
   "cell_type": "code",
   "execution_count": null,
   "id": "b57d357b",
   "metadata": {},
   "outputs": [],
   "source": [
    "df_cnt = df[df['COUNTRY']]\n",
    "df_cnt"
   ]
  },
  {
   "cell_type": "code",
   "execution_count": null,
   "id": "edb3628e",
   "metadata": {},
   "outputs": [],
   "source": [
    "# Script to scrape data on European players using Beautiful Soup\n",
    "\n",
    "import requests\n",
    "from bs4 import BeautifulSoup\n",
    "import pandas as pd\n",
    "\n",
    "years = list(range(2000, 2025))\n",
    "\n",
    "url_start = 'https://basketball.realgm.com/international/league/1/Euroleague/stats/{}/Averages/Qualified/All/points/All/desc/1/Regular_Season'\n",
    "\n",
    "data = []  # List to store parsed data\n",
    "\n",
    "for year in years:\n",
    "    url = url_start.format(year)\n",
    "    response = requests.get(url)\n",
    "    soup = BeautifulSoup(response.content, 'html.parser')\n",
    "\n",
    "    player_data = []\n",
    "    for row in soup.select('.tablesaw tbody tr'):\n",
    "        player = [year]  # Add the year to the player data\n",
    "        player += [cell.text.strip() for cell in row.find_all('td')]\n",
    "        player_data.append(player)\n",
    "\n",
    "    data.extend(player_data)\n",
    "\n",
    "# Creating DataFrame from the collected data\n",
    "columns = ['Year', '#', 'Player', 'Team', 'GP', 'MPG', 'PPG', 'FGM', 'FGA', 'FG%', '3PM', '3PA', '3P%',\n",
    "           'FTM', 'FTA', 'FT%', 'ORB', 'DRB', 'RPG', 'APG', 'SPG', 'BPG', 'TOV', 'PF']\n",
    "df = pd.DataFrame(data, columns=columns)\n",
    "\n",
    "# Saving DataFrame to a CSV file\n",
    "df.to_csv('euroleague_stats.csv', index=False)\n",
    "\n",
    "# Display DataFrame\n",
    "df\n"
   ]
  }
 ],
 "metadata": {
  "kernelspec": {
   "display_name": "Python 3 (ipykernel)",
   "language": "python",
   "name": "python3"
  },
  "language_info": {
   "codemirror_mode": {
    "name": "ipython",
    "version": 3
   },
   "file_extension": ".py",
   "mimetype": "text/x-python",
   "name": "python",
   "nbconvert_exporter": "python",
   "pygments_lexer": "ipython3",
   "version": "3.9.18"
  }
 },
 "nbformat": 4,
 "nbformat_minor": 5
}
