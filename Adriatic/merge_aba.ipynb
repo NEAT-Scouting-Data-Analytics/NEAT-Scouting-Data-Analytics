{
 "cells": [
  {
   "cell_type": "code",
   "execution_count": null,
   "metadata": {},
   "outputs": [],
   "source": [
    "import pandas as pd"
   ]
  },
  {
   "cell_type": "code",
   "execution_count": null,
   "metadata": {},
   "outputs": [],
   "source": [
    "# Import dataframes\n",
    "df_stats = pd.read_csv('C:/Users/agenc/NEAT-Scouting-Data-Analytics/Adriatic/aba_stats.csv', low_memory=False)\n",
    "df_bio = pd.read_csv('C:/Users/agenc/NEAT-Scouting-Data-Analytics/Adriatic/aba_playerbio.csv', low_memory=False)"
   ]
  },
  {
   "cell_type": "code",
   "execution_count": null,
   "metadata": {},
   "outputs": [],
   "source": [
    "# Merge dataframes on 'Player' column\n",
    "merged_df = pd.merge(df_stats, df_bio, on=['Player'], how='inner')"
   ]
  },
  {
   "cell_type": "code",
   "execution_count": null,
   "metadata": {},
   "outputs": [],
   "source": [
    "# Check the shape of the merged dataframe\n",
    "print(f\"Merged DataFrame shape: {merged_df.shape}\")"
   ]
  },
  {
   "cell_type": "code",
   "execution_count": null,
   "metadata": {},
   "outputs": [],
   "source": [
    "# Display rows and columns for a specific player\n",
    "merged_df[merged_df['Player'] == 'Aleksa Avramovic']"
   ]
  },
  {
   "cell_type": "code",
   "execution_count": null,
   "metadata": {},
   "outputs": [],
   "source": [
    "# Display players to whom more than 5 rows are assigned\n",
    "players_with_more_than_5_rows = merged_df[merged_df.groupby('Player').transform('size') > 5]\n",
    "print(players_with_more_than_5_rows)"
   ]
  },
  {
   "cell_type": "code",
   "execution_count": null,
   "metadata": {},
   "outputs": [],
   "source": [
    "# Display information about the merged dataframe\n",
    "merged_df.info()"
   ]
  },
  {
   "cell_type": "code",
   "execution_count": null,
   "metadata": {},
   "outputs": [],
   "source": [
    "# Add new column with league name\n",
    "merged_df['League'] = 'Adriatic ABA'"
   ]
  },
  {
   "cell_type": "code",
   "execution_count": null,
   "metadata": {},
   "outputs": [],
   "source": [
    "# Using regex to extract the first nationality considering internal capitalization\n",
    "nationality_pattern = r'^(United States|United Kingdom|North Macedonia|Czech Republic|Bosnia and Herzegovina|[A-Z][a-z]+)'\n",
    "merged_df['First Country'] = merged_df['Nationality'].str.extract(nationality_pattern)\n",
    "merged_df['First Country'].unique()"
   ]
  },
  {
   "cell_type": "code",
   "execution_count": null,
   "metadata": {},
   "outputs": [],
   "source": [
    "# Export to CSV\n",
    "# merged_df.to_csv('adriatic_league.csv', index=False)"
   ]
  }
 ],
 "metadata": {
  "kernelspec": {
   "display_name": "nf_sql",
   "language": "python",
   "name": "python3"
  },
  "language_info": {
   "codemirror_mode": {
    "name": "ipython",
    "version": 3
   },
   "file_extension": ".py",
   "mimetype": "text/x-python",
   "name": "python",
   "nbconvert_exporter": "python",
   "pygments_lexer": "ipython3",
   "version": "3.9.19"
  }
 },
 "nbformat": 4,
 "nbformat_minor": 2
}
