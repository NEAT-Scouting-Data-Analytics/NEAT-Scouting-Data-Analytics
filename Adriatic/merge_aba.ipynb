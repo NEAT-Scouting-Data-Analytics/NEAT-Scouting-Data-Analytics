{
 "cells": [
  {
   "cell_type": "code",
   "execution_count": 2,
   "metadata": {},
   "outputs": [],
   "source": [
    "import pandas as pd"
   ]
  },
  {
   "cell_type": "code",
   "execution_count": 3,
   "metadata": {},
   "outputs": [],
   "source": [
    "#Import dataframe\n",
    "df_stats = pd.read_csv('/Users/pandit1781/NEAT-Scouting-Data-Analytics/Adriatic/aba_stats.csv', low_memory=False)\n",
    "df_bio = pd.read_csv('/Users/pandit1781/NEAT-Scouting-Data-Analytics/Adriatic/aba_playerbio.csv', low_memory=False)"
   ]
  },
  {
   "cell_type": "code",
   "execution_count": 4,
   "metadata": {},
   "outputs": [],
   "source": [
    "merged_df = pd.merge(df_stats, df_bio, on=['Player'], how='inner')"
   ]
  },
  {
   "cell_type": "code",
   "execution_count": 5,
   "metadata": {},
   "outputs": [
    {
     "data": {
      "text/plain": [
       "(863, 34)"
      ]
     },
     "execution_count": 5,
     "metadata": {},
     "output_type": "execute_result"
    }
   ],
   "source": [
    "merged_df.shape"
   ]
  },
  {
   "cell_type": "code",
   "execution_count": 6,
   "metadata": {},
   "outputs": [
    {
     "data": {
      "text/html": [
       "<div>\n",
       "<style scoped>\n",
       "    .dataframe tbody tr th:only-of-type {\n",
       "        vertical-align: middle;\n",
       "    }\n",
       "\n",
       "    .dataframe tbody tr th {\n",
       "        vertical-align: top;\n",
       "    }\n",
       "\n",
       "    .dataframe thead th {\n",
       "        text-align: right;\n",
       "    }\n",
       "</style>\n",
       "<table border=\"1\" class=\"dataframe\">\n",
       "  <thead>\n",
       "    <tr style=\"text-align: right;\">\n",
       "      <th></th>\n",
       "      <th>Year_x</th>\n",
       "      <th>Position</th>\n",
       "      <th>#</th>\n",
       "      <th>Player</th>\n",
       "      <th>Team_x</th>\n",
       "      <th>GP</th>\n",
       "      <th>MPG</th>\n",
       "      <th>PPG</th>\n",
       "      <th>FGM</th>\n",
       "      <th>FGA</th>\n",
       "      <th>...</th>\n",
       "      <th>PF</th>\n",
       "      <th>League</th>\n",
       "      <th>Year_y</th>\n",
       "      <th>Pos</th>\n",
       "      <th>HT</th>\n",
       "      <th>WT</th>\n",
       "      <th>Team_y</th>\n",
       "      <th>Birth City</th>\n",
       "      <th>Draft Status</th>\n",
       "      <th>Nationality</th>\n",
       "    </tr>\n",
       "  </thead>\n",
       "  <tbody>\n",
       "    <tr>\n",
       "      <th>550</th>\n",
       "      <td>2022</td>\n",
       "      <td>G</td>\n",
       "      <td>8</td>\n",
       "      <td>Aleksa Avramovic</td>\n",
       "      <td>PAR</td>\n",
       "      <td>32</td>\n",
       "      <td>27.500</td>\n",
       "      <td>30.25</td>\n",
       "      <td>10.75</td>\n",
       "      <td>22.50</td>\n",
       "      <td>...</td>\n",
       "      <td>5.75</td>\n",
       "      <td>Adriatic ABA</td>\n",
       "      <td>2021</td>\n",
       "      <td>G</td>\n",
       "      <td>6-3</td>\n",
       "      <td>190</td>\n",
       "      <td>KK Partizan</td>\n",
       "      <td>Cacak</td>\n",
       "      <td>2016 NBA Draft, Undrafted</td>\n",
       "      <td>Serbia</td>\n",
       "    </tr>\n",
       "    <tr>\n",
       "      <th>551</th>\n",
       "      <td>2023</td>\n",
       "      <td>G</td>\n",
       "      <td>8</td>\n",
       "      <td>Aleksa Avramovic</td>\n",
       "      <td>PAR</td>\n",
       "      <td>17</td>\n",
       "      <td>20.250</td>\n",
       "      <td>31.00</td>\n",
       "      <td>10.75</td>\n",
       "      <td>19.50</td>\n",
       "      <td>...</td>\n",
       "      <td>6.75</td>\n",
       "      <td>Adriatic ABA</td>\n",
       "      <td>2021</td>\n",
       "      <td>G</td>\n",
       "      <td>6-3</td>\n",
       "      <td>190</td>\n",
       "      <td>KK Partizan</td>\n",
       "      <td>Cacak</td>\n",
       "      <td>2016 NBA Draft, Undrafted</td>\n",
       "      <td>Serbia</td>\n",
       "    </tr>\n",
       "    <tr>\n",
       "      <th>552</th>\n",
       "      <td>2024</td>\n",
       "      <td>G</td>\n",
       "      <td>1</td>\n",
       "      <td>Aleksa Avramovic</td>\n",
       "      <td>PAR</td>\n",
       "      <td>17</td>\n",
       "      <td>23.375</td>\n",
       "      <td>36.25</td>\n",
       "      <td>11.50</td>\n",
       "      <td>22.25</td>\n",
       "      <td>...</td>\n",
       "      <td>5.50</td>\n",
       "      <td>Adriatic ABA</td>\n",
       "      <td>2021</td>\n",
       "      <td>G</td>\n",
       "      <td>6-3</td>\n",
       "      <td>190</td>\n",
       "      <td>KK Partizan</td>\n",
       "      <td>Cacak</td>\n",
       "      <td>2016 NBA Draft, Undrafted</td>\n",
       "      <td>Serbia</td>\n",
       "    </tr>\n",
       "  </tbody>\n",
       "</table>\n",
       "<p>3 rows × 34 columns</p>\n",
       "</div>"
      ],
      "text/plain": [
       "     Year_x Position  #            Player Team_x  GP     MPG    PPG    FGM  \\\n",
       "550    2022        G  8  Aleksa Avramovic    PAR  32  27.500  30.25  10.75   \n",
       "551    2023        G  8  Aleksa Avramovic    PAR  17  20.250  31.00  10.75   \n",
       "552    2024        G  1  Aleksa Avramovic    PAR  17  23.375  36.25  11.50   \n",
       "\n",
       "       FGA  ...    PF        League  Year_y  Pos   HT   WT       Team_y  \\\n",
       "550  22.50  ...  5.75  Adriatic ABA    2021    G  6-3  190  KK Partizan   \n",
       "551  19.50  ...  6.75  Adriatic ABA    2021    G  6-3  190  KK Partizan   \n",
       "552  22.25  ...  5.50  Adriatic ABA    2021    G  6-3  190  KK Partizan   \n",
       "\n",
       "     Birth City               Draft Status  Nationality  \n",
       "550       Cacak  2016 NBA Draft, Undrafted       Serbia  \n",
       "551       Cacak  2016 NBA Draft, Undrafted       Serbia  \n",
       "552       Cacak  2016 NBA Draft, Undrafted       Serbia  \n",
       "\n",
       "[3 rows x 34 columns]"
      ]
     },
     "execution_count": 6,
     "metadata": {},
     "output_type": "execute_result"
    }
   ],
   "source": [
    "# 'Year_x' corresponds to 2nd year in season name.\n",
    "merged_df[merged_df['Player'] == 'Aleksa Avramovic']"
   ]
  },
  {
   "cell_type": "code",
   "execution_count": null,
   "metadata": {},
   "outputs": [],
   "source": [
    "# Players to whom more than 4 rows are assigned\n",
    "merged_df[merged_df.groupby('Player').transform('size')>5]"
   ]
  },
  {
   "cell_type": "code",
   "execution_count": null,
   "metadata": {},
   "outputs": [],
   "source": [
    "# Export to CSV\n",
    "merged_df.to_csv('adriatic_league.csv', index=False)"
   ]
  }
 ],
 "metadata": {
  "kernelspec": {
   "display_name": "nf_sql",
   "language": "python",
   "name": "python3"
  },
  "language_info": {
   "codemirror_mode": {
    "name": "ipython",
    "version": 3
   },
   "file_extension": ".py",
   "mimetype": "text/x-python",
   "name": "python",
   "nbconvert_exporter": "python",
   "pygments_lexer": "ipython3",
   "version": "3.9.18"
  }
 },
 "nbformat": 4,
 "nbformat_minor": 2
}
