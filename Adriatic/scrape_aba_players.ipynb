{
 "cells": [
  {
   "cell_type": "markdown",
   "metadata": {},
   "source": [
    "### Adriatic ABA Players Dataset\n",
    "\n",
    "* Scrape Players Stats data for\n",
    "* Change data type\n",
    "* Rename positions\n",
    "* Export to CSV"
   ]
  },
  {
   "cell_type": "code",
   "execution_count": null,
   "metadata": {},
   "outputs": [],
   "source": [
    "# Scrape Player Bio for Adriatic (ABA) League\n",
    "\n",
    "import requests\n",
    "from bs4 import BeautifulSoup\n",
    "import pandas as pd\n",
    "\n",
    "# Configure pandas to display all columns in DataFrame\n",
    "pd.set_option('display.max_columns', None)\n",
    "\n",
    "# Define the range of years to scrape\n",
    "years = list(range(2019, 2025))\n",
    "\n",
    "# Base URL for scraping\n",
    "url_start = \"https://basketball.realgm.com/international/league/18/Adriatic-League-Liga-ABA/players/{}/{}\"\n",
    "\n",
    "# List to store parsed data\n",
    "data = []\n",
    "\n",
    "# List of index values (if these are fixed, otherwise modify accordingly)\n",
    "index = ['834', '935', '1024', '1121', '1222']\n",
    "\n",
    "# Iterate over each index and corresponding year\n",
    "for index, year in zip(index, years):\n",
    "    url = url_start.format(index, year)  # Properly formatted URL\n",
    "    response = requests.get(url)\n",
    "    soup = BeautifulSoup(response.content, 'html.parser')\n",
    "\n",
    "    rows = soup.select('.tablesaw tbody tr')\n",
    "    print(f\"Year: {year}, Rows: {len(rows)}\")  # Debugging print\n",
    "\n",
    "# Extract and clean player data from each table row, including the year, and add it to the data list.\n",
    "    for row in rows:\n",
    "        player = [year]  # Add the year and position to the player data\n",
    "        player += [cell.text.strip() for cell in row.find_all('td')]\n",
    "        data.append(player)\n",
    "\n",
    "# Extracting column names from the first row of the table\n",
    "columns = ['Year'] + [header.text.strip() for header in soup.select('.tablesaw thead th')]\n",
    "\n",
    "# Creating DataFrame from the collected data\n",
    "df = pd.DataFrame(data, columns=columns)\n",
    "\n",
    "# Displaying just the first few rows for clarity\n",
    "df "
   ]
  },
  {
   "cell_type": "code",
   "execution_count": null,
   "metadata": {},
   "outputs": [],
   "source": [
    "# Check data type for columns\n",
    "df.info()"
   ]
  },
  {
   "cell_type": "code",
   "execution_count": null,
   "metadata": {},
   "outputs": [],
   "source": [
    "# Rename positions to match NBA Stats\n",
    "df['Pos'] = df['Pos'].replace(['PG', 'SG'], 'G')\n",
    "df['Pos'] = df['Pos'].replace(['SF', 'PF'], 'F')"
   ]
  },
  {
   "cell_type": "code",
   "execution_count": null,
   "metadata": {},
   "outputs": [],
   "source": [
    "df = df.drop_duplicates(subset=['Player'])"
   ]
  },
  {
   "cell_type": "code",
   "execution_count": null,
   "metadata": {},
   "outputs": [],
   "source": [
    "# Saving DataFrame to a CSV file\n",
    "df.to_csv('aba_playerbio.csv', index=False)"
   ]
  }
 ],
 "metadata": {
  "kernelspec": {
   "display_name": "nf_sql",
   "language": "python",
   "name": "python3"
  },
  "language_info": {
   "codemirror_mode": {
    "name": "ipython",
    "version": 3
   },
   "file_extension": ".py",
   "mimetype": "text/x-python",
   "name": "python",
   "nbconvert_exporter": "python",
   "pygments_lexer": "ipython3",
   "version": "3.9.19"
  }
 },
 "nbformat": 4,
 "nbformat_minor": 2
}
