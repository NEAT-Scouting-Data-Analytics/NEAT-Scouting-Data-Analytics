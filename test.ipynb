{
 "cells": [
  {
   "cell_type": "code",
   "execution_count": null,
   "metadata": {},
   "outputs": [],
   "source": [
    "import requests\n",
    "from bs4 import BeautifulSoup\n",
    "import pandas as pd\n",
    "pd.set_option('display.max_columns', None) # so we can see all columns in a wide DataFrame\n",
    "\n",
    "years = list(range(2004, 2025))\n",
    "\n",
    "url_start = \"https://basketball.realgm.com/international/league/12/French-Jeep-Elite/stats/{year}/Per_48/All/All/points/{position}/desc/1/Regular_Season\"\n",
    "\n",
    "data = []  # List to store parsed data\n",
    "\n",
    "for year in years:\n",
    "    url = url_start.format(year=year)\n",
    "    response = requests.get(url)\n",
    "    soup = BeautifulSoup(response.content, 'html.parser')\n",
    "\n",
    "    for position in ['C', 'PF', 'SF', 'SG', 'PG']:\n",
    "        for row in soup.select(f'.tablesaw#{position} tbody tr'):\n",
    "            player = [year, position]  # Add the year and position to the player data\n",
    "            player += [cell.text.strip() for cell in row.find_all('td')]\n",
    "            data.append(player)\n",
    "\n",
    "    for row in soup.select('.tablesaw tbody tr'):\n",
    "        player = [year, 'All']  # Add the year to the player data\n",
    "        player += [cell.text.strip() for cell in row.find_all('td')]\n",
    "        data.append(player)\n",
    "\n",
    "    # data.extend(player_data)\n",
    "\n",
    "# Creating DataFrame from the collected data\n",
    "columns = ['Year', 'Position', '#', 'Player', 'Team', 'GP', 'MPG', 'PPG', 'FGM', 'FGA', 'FG%', '3PM', '3PA', '3P%',\n",
    "           'FTM', 'FTA', 'FT%', 'ORB', 'DRB', 'RPG', 'APG', 'SPG', 'BPG', 'TOV', 'PF']\n",
    "\n",
    "df = pd.DataFrame(data, columns=columns)\n",
    "\n",
    "# Saving DataFrame to a CSV file\n",
    "df.to_csv('euroleague_stats.csv', index=False)\n",
    "\n",
    "# Display DataFrame\n",
    "df"
   ]
  }
 ],
 "metadata": {
  "language_info": {
   "name": "python"
  }
 },
 "nbformat": 4,
 "nbformat_minor": 2
}
