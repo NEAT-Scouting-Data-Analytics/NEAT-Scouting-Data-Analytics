{
 "cells": [
  {
   "cell_type": "code",
   "execution_count": 1,
   "metadata": {},
   "outputs": [],
   "source": [
    "import pandas as pd\n",
    "pd.set_option('display.max_columns', None)"
   ]
  },
  {
   "cell_type": "code",
   "execution_count": 2,
   "metadata": {},
   "outputs": [],
   "source": [
    "#Import dataframes \n",
    "\n",
    "df_player_stats = pd.read_csv('DataFiles/player_stats_per_minute.csv')\n",
    "df_bio = pd.read_csv('DataFiles/df_bio.csv')\n",
    "data_index = pd.read_csv('DataFiles/data_index.csv')"
   ]
  },
  {
   "cell_type": "code",
   "execution_count": 3,
   "metadata": {},
   "outputs": [],
   "source": [
    "columns_to_delete = ['PLUS_MINUS', 'NBA_FANTASY_PTS', 'DD2', 'TD3', 'WNBA_FANTASY_PTS', 'GP_RANK',\n",
    "                     'W_RANK', 'L_RANK', 'W_PCT_RANK', 'MIN_RANK', 'FGM_RANK', 'FGA_RANK',\n",
    "                     'FG_PCT_RANK', 'FG3M_RANK', 'FG3A_RANK', 'FG3_PCT_RANK', 'FTM_RANK',\n",
    "                     'FTA_RANK', 'FT_PCT_RANK', 'OREB_RANK', 'DREB_RANK', 'REB_RANK',\n",
    "                     'AST_RANK', 'TOV_RANK', 'STL_RANK', 'BLK_RANK', 'BLKA_RANK', 'PF_RANK',\n",
    "                     'PFD_RANK', 'PTS_RANK', 'PLUS_MINUS_RANK', 'NBA_FANTASY_PTS_RANK',\n",
    "                     'DD2_RANK', 'TD3_RANK', 'WNBA_FANTASY_PTS_RANK']\n",
    "\n",
    "# Delete the specified columns\n",
    "df_player_stats.drop(columns=columns_to_delete, inplace=True, errors='ignore')\n",
    "\n",
    "df_player_stats.rename(columns={'Season_type': 'Season'}, inplace=True)"
   ]
  },
  {
   "cell_type": "code",
   "execution_count": 4,
   "metadata": {},
   "outputs": [],
   "source": [
    "# Columns to be dropped in 'df_bio' table:\n",
    "df_bio.drop(columns=['PLAYER_HEIGHT', 'PLAYER_HEIGHT_INCHES', 'PLAYER_WEIGHT', 'PTS', 'REB', 'AST'], inplace=True, errors='ignore')"
   ]
  },
  {
   "cell_type": "code",
   "execution_count": 6,
   "metadata": {},
   "outputs": [],
   "source": [
    "# Merge 'df_player_stats' and ‘df_bio‘ on common keys ‘PLAYER_ID‘ and ‘Year‘ in order to get 'COUNTRY' column.\n",
    "merged_df_stats_bio = pd.merge(df_player_stats, df_bio, on=['PLAYER_ID', 'Year', 'Season'], how='inner')\n",
    "\n",
    "columns_to_delete_merged = ['GP_y','NET_RATING','OREB_PCT','DREB_PCT','USG_PCT', 'TS_PCT','AST_PCT']\n",
    "\n",
    "merged_df_stats_bio.drop(columns=columns_to_delete_merged, inplace=True)          "
   ]
  },
  {
   "cell_type": "code",
   "execution_count": 7,
   "metadata": {},
   "outputs": [
    {
     "data": {
      "text/plain": [
       "(18282, 42)"
      ]
     },
     "execution_count": 7,
     "metadata": {},
     "output_type": "execute_result"
    }
   ],
   "source": [
    "# Checking the result of 'merged_df_stats_bio'\n",
    "merged_df_stats_bio.shape"
   ]
  },
  {
   "cell_type": "code",
   "execution_count": 8,
   "metadata": {},
   "outputs": [],
   "source": [
    "# Merging 'merged_df_stat_bio' with player index table on player-id to get player´s role/position.\n",
    "final_merged_df = pd.merge(merged_df_stats_bio, data_index, left_on='PLAYER_ID', right_on='PERSON_ID', how='inner')\n",
    "\n",
    "# Dropping all duplicate columns with trailing letter 'y'.\n",
    "columns_to_drop = [col for col in final_merged_df.columns if 'y' in col]\n",
    "final_merged_df.drop(columns=columns_to_drop, inplace=True)\n",
    "\n",
    "# Dropping redundant columns\n",
    "columns_to_drop_2 = [\n",
    "    'PLAYER_LAST_NAME',\n",
    "    'PLAYER_FIRST_NAME',\n",
    "    'PLAYER_SLUG',\n",
    "    'TEAM_ID',\n",
    "    'TEAM_SLUG',\n",
    "    'IS_DEFUNCT',\n",
    "    'TEAM_NAME',\n",
    "    'NICKNAME',\n",
    "    'TEAM_ABBREVIATION',\n",
    "    'ROSTER_STATUS',\n",
    "    'STATS_TIMEFRAME', \n",
    "    'PERSON_ID',\n",
    "    'TEAM_CITY'\n",
    "]\n",
    "\n",
    "final_merged_df.drop(columns=columns_to_drop_2, inplace=True)"
   ]
  },
  {
   "cell_type": "code",
   "execution_count": 9,
   "metadata": {},
   "outputs": [],
   "source": [
    "# Drop '_x' at the end of column names \n",
    "for column in final_merged_df.columns: \n",
    "    if '_x' in column: \n",
    "        column_name = column.replace('_x', '')\n",
    "        final_merged_df.rename(columns={column:column_name}, inplace=True)\n",
    "\n",
    "# Change regular season name at 'Season' column  \n",
    "final_merged_df['Season'] = final_merged_df['Season'].apply(lambda x:'Regular Season' if x =='Regular%20Season' else x)"
   ]
  },
  {
   "cell_type": "code",
   "execution_count": null,
   "metadata": {},
   "outputs": [],
   "source": [
    "# Output of final dataframe\n",
    "nj = final_merged_df[(final_merged_df['PLAYER_NAME'] == 'Nikola Jokic')]\n",
    "nj\n",
    "\n",
    "# We don´t need:\n",
    "# PFD, PLAYER_HEIGHT, PLAYER_HEIGHT_INCHES, PLAYER_WEIGHT, PTS, REB, AST"
   ]
  },
  {
   "cell_type": "code",
   "execution_count": null,
   "metadata": {},
   "outputs": [],
   "source": [
    "final_merged_df.to_csv('merged_per_minute.csv', index=False)"
   ]
  }
 ],
 "metadata": {
  "kernelspec": {
   "display_name": "nf_sql",
   "language": "python",
   "name": "python3"
  },
  "language_info": {
   "codemirror_mode": {
    "name": "ipython",
    "version": 3
   },
   "file_extension": ".py",
   "mimetype": "text/x-python",
   "name": "python",
   "nbconvert_exporter": "python",
   "pygments_lexer": "ipython3",
   "version": "3.9.18"
  }
 },
 "nbformat": 4,
 "nbformat_minor": 2
}
