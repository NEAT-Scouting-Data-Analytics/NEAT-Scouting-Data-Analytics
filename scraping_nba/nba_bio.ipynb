{
 "cells": [
  {
   "cell_type": "markdown",
   "id": "7ef4842c",
   "metadata": {},
   "source": [
    "## Scraping bio data (height, weight, nationality) from NBA Stats  "
   ]
  },
  {
   "cell_type": "code",
   "execution_count": null,
   "id": "942ec36b",
   "metadata": {},
   "outputs": [],
   "source": [
    "import pandas as pd\n",
    "import requests\n",
    "pd.set_option('display.max_columns', None) # so we can see all columns in a wide DataFrame\n",
    "import time\n",
    "import numpy as np"
   ]
  },
  {
   "cell_type": "code",
   "execution_count": null,
   "id": "d7954fbb",
   "metadata": {},
   "outputs": [],
   "source": [
    "raw_api_url ='https://stats.nba.com/stats/leaguedashplayerbiostats?College=&Conference=&Country=&DateFrom=&DateTo=&Division=&DraftPick=&DraftYear=&GameScope=&GameSegment=&Height=&ISTRound=&LastNGames=0&LeagueID=00&Location=&Month=0&OpponentTeamID=0&Outcome=&PORound=0&PerMode=Totals&Period=0&PlayerExperience=&PlayerPosition=&Season=2023-24&SeasonSegment=&SeasonType=Regular Season&ShotClockRange=&StarterBench=&TeamID=0&VsConference=&VsDivision=&Weight='"
   ]
  },
  {
   "cell_type": "code",
   "execution_count": null,
   "id": "135b0a9c",
   "metadata": {},
   "outputs": [],
   "source": [
    "headers = {\n",
    "    'Accept': '*/*',\n",
    "    'Accept-Encoding': 'gzip, deflate, br, zstd',\n",
    "    'Accept-Language': 'de-DE,de;q=0.9,en-US;q=0.8,en;q=0.7',\n",
    "    'Connection': 'keep-alive',\n",
    "    'Host': 'stats.nba.com',\n",
    "    'If-Modified-Since': 'Thu, 20 Oct 2022 08:06:46 GMT',\n",
    "    'Origin': 'https://www.nba.com',\n",
    "    'Referer': 'https://www.nba.com/',\n",
    "    'Sec-Ch-Ua': '\"Google Chrome\";v=\"123\", \"Not:A-Brand\";v=\"8\", \"Chromium\";v=\"123\"',\n",
    "    'Sec-Ch-Ua-Mobile': '?0',\n",
    "    'Sec-Ch-Ua-Platform': '\"macOS\"',\n",
    "    'Sec-Fetch-Dest': 'empty',\n",
    "    'Sec-Fetch-Mode': 'cors',\n",
    "    'Sec-Fetch-Site': 'same-site',\n",
    "    'User-Agent': 'Mozilla/5.0 (Macintosh; Intel Mac OS X 10_15_7) AppleWebKit/537.36 (KHTML, like Gecko) Chrome/123.0.0.0 Safari/537.36'\n",
    "}"
   ]
  },
  {
   "cell_type": "code",
   "execution_count": null,
   "id": "83d6671f",
   "metadata": {},
   "outputs": [],
   "source": [
    "r = requests.get(url=raw_api_url, headers=headers).json() #parses return as JSON and returns a Python object(dictionary) \n",
    "r"
   ]
  },
  {
   "cell_type": "code",
   "execution_count": null,
   "id": "2581a034",
   "metadata": {},
   "outputs": [],
   "source": [
    "# Accessing the headers and resultSets in dict.\n",
    "\n",
    "df_cols_short = r['resultSets'][0]['headers']\n",
    "\n",
    "df_cols_short"
   ]
  },
  {
   "cell_type": "code",
   "execution_count": null,
   "id": "882bbd61",
   "metadata": {},
   "outputs": [],
   "source": [
    "data = r['resultSets'][0]['rowSet']\n",
    "data"
   ]
  },
  {
   "cell_type": "code",
   "execution_count": null,
   "id": "f623a521",
   "metadata": {},
   "outputs": [],
   "source": [
    "df_cols = df_cols_short\n",
    "\n",
    "years = ['1996-97', '1997-98', '1998-99', '1999-00', '2000-01', '2001-02', '2002-03', '2003-04', '2004-05', '2005-06', '2006-07', '2007-08', '2008-09', '2009-10', '2010-11', '2011-12',\n",
    "         '2012-13','2013-14','2014-15','2015-16','2016-17','2017-18','2018-19','2019-20','2020-21','2021-22', '2022-23']\n",
    "season_types = ['Regular%20Season','Playoffs']"
   ]
  },
  {
   "cell_type": "code",
   "execution_count": null,
   "id": "f43e65f0",
   "metadata": {},
   "outputs": [],
   "source": [
    "df_bio = pd.DataFrame(columns=df_cols)\n",
    "\n",
    "for y in years:\n",
    "    for s in season_types:\n",
    "        api_url = \"https://stats.nba.com/stats/leaguedashplayerbiostats?College=&Conference=&Country=&DateFrom=&DateTo=&Division=&DraftPick=&DraftYear=&GameScope=&GameSegment=&Height=&ISTRound=&LastNGames=0&LeagueID=00&Location=&Month=0&OpponentTeamID=0&Outcome=&PORound=0&PerMode=Totals&Period=0&PlayerExperience=&PlayerPosition=&Season=\"+y+\"&SeasonSegment=&SeasonType=\"+s+\"&ShotClockRange=&StarterBench=&TeamID=0&VsConference=&VsDivision=&Weight=\"\n",
    "        r = requests.get(url=api_url, headers=headers).json()\n",
    "        data = r['resultSets'][0]['rowSet']\n",
    "        columns = r['resultSets'][0]['headers']\n",
    "        temp_df1 = pd.DataFrame(data, columns=columns)\n",
    "        temp_df1['Year'] = y\n",
    "        temp_df1['Season'] = s\n",
    "        df_bio = pd.concat([df_bio, temp_df1])"
   ]
  },
  {
   "cell_type": "code",
   "execution_count": null,
   "id": "c69176e1",
   "metadata": {},
   "outputs": [],
   "source": [
    "df_bio\n"
   ]
  },
  {
   "cell_type": "code",
   "execution_count": null,
   "id": "9d3fab04",
   "metadata": {},
   "outputs": [],
   "source": [
    "#Export dataframe \n",
    "\n",
    "df_bio.to_csv('df_bio.csv', index=False)"
   ]
  }
 ],
 "metadata": {
  "kernelspec": {
   "display_name": "Python 3 (ipykernel)",
   "language": "python",
   "name": "python3"
  },
  "language_info": {
   "codemirror_mode": {
    "name": "ipython",
    "version": 3
   },
   "file_extension": ".py",
   "mimetype": "text/x-python",
   "name": "python",
   "nbconvert_exporter": "python",
   "pygments_lexer": "ipython3",
   "version": "3.9.18"
  }
 },
 "nbformat": 4,
 "nbformat_minor": 5
}
