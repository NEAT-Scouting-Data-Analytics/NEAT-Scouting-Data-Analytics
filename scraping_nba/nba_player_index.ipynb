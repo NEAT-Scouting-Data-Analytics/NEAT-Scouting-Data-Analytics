{
 "cells": [
  {
   "cell_type": "markdown",
   "metadata": {},
   "source": [
    "## Scraping 'Player Index' data in order to access player´s positions and be able to merge with other DF later on. "
   ]
  },
  {
   "cell_type": "code",
   "execution_count": 24,
   "metadata": {},
   "outputs": [],
   "source": [
    "import pandas as pd\n",
    "import requests\n",
    "pd.set_option('display.max_columns', None) # so we can see all columns in a wide DataFrame\n",
    "import time\n",
    "import numpy as np"
   ]
  },
  {
   "cell_type": "code",
   "execution_count": 25,
   "metadata": {},
   "outputs": [],
   "source": [
    "headers_bio = {\n",
    "    'Accept': '*/*', \n",
    "    'Accept-Encoding': 'gzip, deflate, br, zstd',\n",
    "    'Accept-Language': 'de-DE,de;q=0.9,en-US;q=0.8,en;q=0.7',\n",
    "    'Connection': 'keep-alive',\n",
    "    'Host': 'stats.nba.com',\n",
    "    'Origin': 'https://www.nba.com',\n",
    "    'Referer': 'https://www.nba.com/',\n",
    "    'Sec-Fetch-Dest': 'empty',\n",
    "    'Sec-Fetch-Mode': 'cors',\n",
    "    'Sec-Fetch-Site': 'same-site',\n",
    "    'User-Agent': 'Mozilla/5.0 (Macintosh; Intel Mac OS X 10.15; rv:123.0) Gecko/20100101 Firefox/123.0'\n",
    "}"
   ]
  },
  {
   "cell_type": "code",
   "execution_count": 26,
   "metadata": {},
   "outputs": [],
   "source": [
    "# Scraping data from 'Player Index' \n",
    "raw_api_index = \"https://stats.nba.com/stats/playerindex?College=&Country=&DraftPick=&DraftRound=&DraftYear=&Height=&Historical=1&LeagueID=00&Season=2023-24&SeasonType=Regular%20Season&TeamID=0&Weight=\"\n",
    "\n",
    "# Using requests to access the JSON\n",
    "r_index = requests.get(url=raw_api_index, headers=headers_bio).json()\n",
    "\n",
    "# Accessing the column names and data in JSON\n",
    "df_cols_short_index = r_index['resultSets'][0]['headers']\n",
    "data_bio_index = r_index['resultSets'][0]['rowSet']"
   ]
  },
  {
   "cell_type": "code",
   "execution_count": 17,
   "metadata": {},
   "outputs": [],
   "source": [
    "# Defining list of European countries\n",
    "european_counties = ['Austria', 'Belgium', 'Bulgaria', 'Croatia', 'Cyprus', 'Czechia', 'Denmark','Estonia', 'Finland', 'France', 'Germany', 'Greece', 'Hungary', 'Ireland',\n",
    "'Italy', 'Latvia', 'Lithuania', 'Luxembourg', 'Malta', 'Netherlands','Poland', 'Portugal', 'Romania', 'Slovakia', 'Slovenia', 'Spain', 'Sweden', 'Serbia', 'Ukraine', 'Russia', 'Turkey', 'Georgia','Bosnia and Herzegovina', 'Kosovo', 'Belarus', 'Albania', 'Armenia' ]\n",
    "\n",
    "# Converting JSON into pandas DF\n",
    "data_index= pd.DataFrame(data_bio_index, columns=df_cols_short_index)\n",
    "\n",
    "# Filtering out players who played from 1996 and only from European countries\n",
    "data_index_filtered = data_index[(data_index['TO_YEAR'] >= '1996') & (data_index['COUNTRY'].isin(european_counties))]"
   ]
  },
  {
   "cell_type": "code",
   "execution_count": 21,
   "metadata": {},
   "outputs": [
    {
     "data": {
      "text/html": [
       "<div>\n",
       "<style scoped>\n",
       "    .dataframe tbody tr th:only-of-type {\n",
       "        vertical-align: middle;\n",
       "    }\n",
       "\n",
       "    .dataframe tbody tr th {\n",
       "        vertical-align: top;\n",
       "    }\n",
       "\n",
       "    .dataframe thead th {\n",
       "        text-align: right;\n",
       "    }\n",
       "</style>\n",
       "<table border=\"1\" class=\"dataframe\">\n",
       "  <thead>\n",
       "    <tr style=\"text-align: right;\">\n",
       "      <th></th>\n",
       "      <th>PERSON_ID</th>\n",
       "      <th>PLAYER_LAST_NAME</th>\n",
       "      <th>PLAYER_FIRST_NAME</th>\n",
       "      <th>PLAYER_SLUG</th>\n",
       "      <th>TEAM_ID</th>\n",
       "      <th>TEAM_SLUG</th>\n",
       "      <th>IS_DEFUNCT</th>\n",
       "      <th>TEAM_CITY</th>\n",
       "      <th>TEAM_NAME</th>\n",
       "      <th>TEAM_ABBREVIATION</th>\n",
       "      <th>JERSEY_NUMBER</th>\n",
       "      <th>POSITION</th>\n",
       "      <th>HEIGHT</th>\n",
       "      <th>WEIGHT</th>\n",
       "      <th>COLLEGE</th>\n",
       "      <th>COUNTRY</th>\n",
       "      <th>DRAFT_YEAR</th>\n",
       "      <th>DRAFT_ROUND</th>\n",
       "      <th>DRAFT_NUMBER</th>\n",
       "      <th>ROSTER_STATUS</th>\n",
       "      <th>PTS</th>\n",
       "      <th>REB</th>\n",
       "      <th>AST</th>\n",
       "      <th>STATS_TIMEFRAME</th>\n",
       "      <th>FROM_YEAR</th>\n",
       "      <th>TO_YEAR</th>\n",
       "    </tr>\n",
       "  </thead>\n",
       "  <tbody>\n",
       "    <tr>\n",
       "      <th>1107</th>\n",
       "      <td>1629029</td>\n",
       "      <td>Doncic</td>\n",
       "      <td>Luka</td>\n",
       "      <td>luka-doncic</td>\n",
       "      <td>1610612742</td>\n",
       "      <td>mavericks</td>\n",
       "      <td>0</td>\n",
       "      <td>Dallas</td>\n",
       "      <td>Mavericks</td>\n",
       "      <td>DAL</td>\n",
       "      <td>77</td>\n",
       "      <td>F-G</td>\n",
       "      <td>6-7</td>\n",
       "      <td>230</td>\n",
       "      <td>Real Madrid</td>\n",
       "      <td>Slovenia</td>\n",
       "      <td>2018.0</td>\n",
       "      <td>1.0</td>\n",
       "      <td>3.0</td>\n",
       "      <td>1.0</td>\n",
       "      <td>34.0</td>\n",
       "      <td>9.1</td>\n",
       "      <td>9.8</td>\n",
       "      <td>Season</td>\n",
       "      <td>2018</td>\n",
       "      <td>2023</td>\n",
       "    </tr>\n",
       "  </tbody>\n",
       "</table>\n",
       "</div>"
      ],
      "text/plain": [
       "      PERSON_ID PLAYER_LAST_NAME PLAYER_FIRST_NAME  PLAYER_SLUG     TEAM_ID  \\\n",
       "1107    1629029           Doncic              Luka  luka-doncic  1610612742   \n",
       "\n",
       "      TEAM_SLUG  IS_DEFUNCT TEAM_CITY  TEAM_NAME TEAM_ABBREVIATION  \\\n",
       "1107  mavericks           0    Dallas  Mavericks               DAL   \n",
       "\n",
       "     JERSEY_NUMBER POSITION HEIGHT WEIGHT      COLLEGE   COUNTRY  DRAFT_YEAR  \\\n",
       "1107            77      F-G    6-7    230  Real Madrid  Slovenia      2018.0   \n",
       "\n",
       "      DRAFT_ROUND  DRAFT_NUMBER  ROSTER_STATUS   PTS  REB  AST  \\\n",
       "1107          1.0           3.0            1.0  34.0  9.1  9.8   \n",
       "\n",
       "     STATS_TIMEFRAME FROM_YEAR TO_YEAR  \n",
       "1107          Season      2018    2023  "
      ]
     },
     "execution_count": 21,
     "metadata": {},
     "output_type": "execute_result"
    }
   ],
   "source": [
    "# Calling dataframe\n",
    "data_index[(data_index['PERSON_ID'] == 1629029)]"
   ]
  },
  {
   "cell_type": "code",
   "execution_count": 23,
   "metadata": {},
   "outputs": [],
   "source": [
    "data_index.to_csv('data_index.csv', index=False)"
   ]
  }
 ],
 "metadata": {
  "kernelspec": {
   "display_name": "nf_sql",
   "language": "python",
   "name": "python3"
  },
  "language_info": {
   "codemirror_mode": {
    "name": "ipython",
    "version": 3
   },
   "file_extension": ".py",
   "mimetype": "text/x-python",
   "name": "python",
   "nbconvert_exporter": "python",
   "pygments_lexer": "ipython3",
   "version": "3.9.18"
  }
 },
 "nbformat": 4,
 "nbformat_minor": 2
}
