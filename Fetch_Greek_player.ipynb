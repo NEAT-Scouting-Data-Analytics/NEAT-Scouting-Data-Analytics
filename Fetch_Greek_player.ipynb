{
 "cells": [
  {
   "cell_type": "code",
   "execution_count": 4,
   "metadata": {},
   "outputs": [
    {
     "name": "stdout",
     "output_type": "stream",
     "text": [
      "Year: 2019, Rows: 282\n",
      "Year: 2020, Rows: 241\n",
      "Year: 2021, Rows: 257\n",
      "Year: 2022, Rows: 227\n",
      "Year: 2023, Rows: 231\n",
      "Columns: ['Year', 'Player', 'Pos', 'HT', 'WT', 'Team', 'Birth City', 'Draft Status', 'Nationality']\n",
      "Number of columns: 9\n"
     ]
    },
    {
     "data": {
      "text/html": [
       "<div>\n",
       "<style scoped>\n",
       "    .dataframe tbody tr th:only-of-type {\n",
       "        vertical-align: middle;\n",
       "    }\n",
       "\n",
       "    .dataframe tbody tr th {\n",
       "        vertical-align: top;\n",
       "    }\n",
       "\n",
       "    .dataframe thead th {\n",
       "        text-align: right;\n",
       "    }\n",
       "</style>\n",
       "<table border=\"1\" class=\"dataframe\">\n",
       "  <thead>\n",
       "    <tr style=\"text-align: right;\">\n",
       "      <th></th>\n",
       "      <th>Year</th>\n",
       "      <th>Player</th>\n",
       "      <th>Pos</th>\n",
       "      <th>HT</th>\n",
       "      <th>WT</th>\n",
       "      <th>Team</th>\n",
       "      <th>Birth City</th>\n",
       "      <th>Draft Status</th>\n",
       "      <th>Nationality</th>\n",
       "    </tr>\n",
       "  </thead>\n",
       "  <tbody>\n",
       "    <tr>\n",
       "      <th>0</th>\n",
       "      <td>2019</td>\n",
       "      <td>Danny Agbelese</td>\n",
       "      <td>F</td>\n",
       "      <td>6-8</td>\n",
       "      <td>215</td>\n",
       "      <td>Kolossos Rodou BC</td>\n",
       "      <td>Lanham (MD)</td>\n",
       "      <td>2012 NBA Draft, Undrafted</td>\n",
       "      <td>United States</td>\n",
       "    </tr>\n",
       "    <tr>\n",
       "      <th>1</th>\n",
       "      <td>2019</td>\n",
       "      <td>Dimitrios Agravanis</td>\n",
       "      <td>F</td>\n",
       "      <td>6-10</td>\n",
       "      <td>210</td>\n",
       "      <td>ASP Promitheas Patras</td>\n",
       "      <td>Athens</td>\n",
       "      <td>2015 Rnd 2 Pick 29</td>\n",
       "      <td>Greece</td>\n",
       "    </tr>\n",
       "    <tr>\n",
       "      <th>2</th>\n",
       "      <td>2019</td>\n",
       "      <td>Ioannis Agravanis</td>\n",
       "      <td>F</td>\n",
       "      <td>6-6</td>\n",
       "      <td>198</td>\n",
       "      <td>Peristeri BC</td>\n",
       "      <td>Amarousio</td>\n",
       "      <td>2020 NBA Draft, Undrafted</td>\n",
       "      <td>Greece</td>\n",
       "    </tr>\n",
       "    <tr>\n",
       "      <th>3</th>\n",
       "      <td>2019</td>\n",
       "      <td>Kyle Allman, Jr.</td>\n",
       "      <td>G</td>\n",
       "      <td>6-3</td>\n",
       "      <td>183</td>\n",
       "      <td>GS Lavrio</td>\n",
       "      <td>Queens (NY)</td>\n",
       "      <td>2019 NBA Draft, Undrafted</td>\n",
       "      <td>United States</td>\n",
       "    </tr>\n",
       "    <tr>\n",
       "      <th>4</th>\n",
       "      <td>2019</td>\n",
       "      <td>Rati Andronikashvili</td>\n",
       "      <td>G</td>\n",
       "      <td>6-4</td>\n",
       "      <td>195</td>\n",
       "      <td>Ionikos Nikaias BC</td>\n",
       "      <td>Tbilisi</td>\n",
       "      <td>2023 NBA Draft, Undrafted</td>\n",
       "      <td>Georgia</td>\n",
       "    </tr>\n",
       "    <tr>\n",
       "      <th>...</th>\n",
       "      <td>...</td>\n",
       "      <td>...</td>\n",
       "      <td>...</td>\n",
       "      <td>...</td>\n",
       "      <td>...</td>\n",
       "      <td>...</td>\n",
       "      <td>...</td>\n",
       "      <td>...</td>\n",
       "      <td>...</td>\n",
       "    </tr>\n",
       "    <tr>\n",
       "      <th>1233</th>\n",
       "      <td>2023</td>\n",
       "      <td>Vassilis Xanthopoulos</td>\n",
       "      <td>G</td>\n",
       "      <td>6-2</td>\n",
       "      <td>205</td>\n",
       "      <td>Peristeri BC</td>\n",
       "      <td>Thessaloniki</td>\n",
       "      <td>2006 NBA Draft, Undrafted</td>\n",
       "      <td>Greece</td>\n",
       "    </tr>\n",
       "    <tr>\n",
       "      <th>1234</th>\n",
       "      <td>2023</td>\n",
       "      <td>Pavlos Xydas</td>\n",
       "      <td>G</td>\n",
       "      <td>6-1</td>\n",
       "      <td>-</td>\n",
       "      <td>Maroussi BC</td>\n",
       "      <td>N/A</td>\n",
       "      <td>2015 NBA Draft, Undrafted</td>\n",
       "      <td>Greece</td>\n",
       "    </tr>\n",
       "    <tr>\n",
       "      <th>1235</th>\n",
       "      <td>2023</td>\n",
       "      <td>Dimitrios Zampelas</td>\n",
       "      <td>-</td>\n",
       "      <td>-</td>\n",
       "      <td>-</td>\n",
       "      <td>Maroussi BC</td>\n",
       "      <td>N/A</td>\n",
       "      <td>2024 NBA Draft Eligible</td>\n",
       "      <td>Greece</td>\n",
       "    </tr>\n",
       "    <tr>\n",
       "      <th>1236</th>\n",
       "      <td>2023</td>\n",
       "      <td>Thodoris Zaras</td>\n",
       "      <td>G</td>\n",
       "      <td>6-5</td>\n",
       "      <td>215</td>\n",
       "      <td>GS Lavrio</td>\n",
       "      <td>Thessaloniki</td>\n",
       "      <td>2009 NBA Draft, Undrafted</td>\n",
       "      <td>Greece</td>\n",
       "    </tr>\n",
       "    <tr>\n",
       "      <th>1237</th>\n",
       "      <td>2023</td>\n",
       "      <td>Evangelos Zougris</td>\n",
       "      <td>F</td>\n",
       "      <td>6-8</td>\n",
       "      <td>249</td>\n",
       "      <td>Peristeri BC</td>\n",
       "      <td>N/A</td>\n",
       "      <td>2026 NBA Draft Eligible</td>\n",
       "      <td>Greece</td>\n",
       "    </tr>\n",
       "  </tbody>\n",
       "</table>\n",
       "<p>1238 rows × 9 columns</p>\n",
       "</div>"
      ],
      "text/plain": [
       "      Year                 Player Pos    HT   WT                   Team  \\\n",
       "0     2019         Danny Agbelese   F   6-8  215      Kolossos Rodou BC   \n",
       "1     2019    Dimitrios Agravanis   F  6-10  210  ASP Promitheas Patras   \n",
       "2     2019      Ioannis Agravanis   F   6-6  198           Peristeri BC   \n",
       "3     2019       Kyle Allman, Jr.   G   6-3  183              GS Lavrio   \n",
       "4     2019   Rati Andronikashvili   G   6-4  195     Ionikos Nikaias BC   \n",
       "...    ...                    ...  ..   ...  ...                    ...   \n",
       "1233  2023  Vassilis Xanthopoulos   G   6-2  205           Peristeri BC   \n",
       "1234  2023           Pavlos Xydas   G   6-1    -            Maroussi BC   \n",
       "1235  2023     Dimitrios Zampelas   -     -    -            Maroussi BC   \n",
       "1236  2023         Thodoris Zaras   G   6-5  215              GS Lavrio   \n",
       "1237  2023      Evangelos Zougris   F   6-8  249           Peristeri BC   \n",
       "\n",
       "        Birth City               Draft Status    Nationality  \n",
       "0      Lanham (MD)  2012 NBA Draft, Undrafted  United States  \n",
       "1           Athens         2015 Rnd 2 Pick 29         Greece  \n",
       "2        Amarousio  2020 NBA Draft, Undrafted         Greece  \n",
       "3      Queens (NY)  2019 NBA Draft, Undrafted  United States  \n",
       "4          Tbilisi  2023 NBA Draft, Undrafted        Georgia  \n",
       "...            ...                        ...            ...  \n",
       "1233  Thessaloniki  2006 NBA Draft, Undrafted         Greece  \n",
       "1234           N/A  2015 NBA Draft, Undrafted         Greece  \n",
       "1235           N/A    2024 NBA Draft Eligible         Greece  \n",
       "1236  Thessaloniki  2009 NBA Draft, Undrafted         Greece  \n",
       "1237           N/A    2026 NBA Draft Eligible         Greece  \n",
       "\n",
       "[1238 rows x 9 columns]"
      ]
     },
     "execution_count": 4,
     "metadata": {},
     "output_type": "execute_result"
    }
   ],
   "source": [
    "import requests\n",
    "from bs4 import BeautifulSoup\n",
    "import pandas as pd\n",
    "\n",
    "years = list(range(2019, 2024))\n",
    "\n",
    "\n",
    "#url_start = 'https://basketball.realgm.com/international/league/12/French-Jeep-Elite/stats/{year}/Per_48/Qualified/All/points/{position}/desc/1/Regular_Season'\n",
    "url_start = 'https://basketball.realgm.com/international/league/8/Greek-HEBA-A1/players/{}/{}'\n",
    "data = []  # List to store parsed data\n",
    "index = ['767','868','957','1051','1146']\n",
    "\n",
    "\n",
    "for index, year in zip(index, years):\n",
    "    url = url_start.format(index, year)  # Properly formatted URL\n",
    "    response = requests.get(url)\n",
    "    soup = BeautifulSoup(response.content, 'html.parser')\n",
    "\n",
    "    rows = soup.select('.tablesaw tbody tr')\n",
    "    print(f\"Year: {year}, Rows: {len(rows)}\")  # Debugging print\n",
    "\n",
    "    for row in rows:\n",
    "        player = [year]  # Add the year and position to the player data\n",
    "        player += [cell.text.strip() for cell in row.find_all('td')]\n",
    "        data.append(player)\n",
    "\n",
    "\n",
    "\n",
    "columns = ['Year'] + [header.text.strip() for header in soup.select('.tablesaw thead th')]\n",
    "\n",
    "print(\"Columns:\", columns)\n",
    "print(\"Number of columns:\", len(columns))\n",
    "\n",
    "# Creating DataFrame from the collected data\n",
    "df_Greek_players = pd.DataFrame(data, columns=columns)\n",
    "\n",
    "# Creating DataFrame from the collected data\n",
    "#columns = ['Year', 'Position', '#', 'Player', 'Team', 'GP', 'MPG', 'PPG', 'FGM', 'FGA', 'FG%', '3PM', '3PA', '3P%',\n",
    "           #'FTM', 'FTA', 'FT%', 'ORB', 'DRB', 'RPG', 'APG', 'SPG', 'BPG', 'TOV', 'PF']\n",
    "#df_Greek_players = pd.DataFrame(data)\n",
    "\n",
    "df_Greek_players['Pos'] = df_Greek_players['Pos'].replace(['PG', 'SG'], 'G')\n",
    "df_Greek_players['Pos'] = df_Greek_players['Pos'].replace(['SF', 'PF'], 'F')\n",
    "\n",
    "\n",
    "# Save DataFrame to a CSV file\n",
    "df_Greek_players.to_csv('DataFiles/euroleague_stats_Greek_player.csv', index=False)\n",
    "\n",
    "\n",
    "# Display DataFrame\n",
    "df_Greek_players"
   ]
  },
  {
   "cell_type": "code",
   "execution_count": 2,
   "metadata": {},
   "outputs": [],
   "source": [
    "pd.set_option('display.max_rows', None)"
   ]
  },
  {
   "cell_type": "code",
   "execution_count": null,
   "metadata": {},
   "outputs": [],
   "source": [
    "df_turkey_players"
   ]
  },
  {
   "cell_type": "code",
   "execution_count": null,
   "metadata": {},
   "outputs": [],
   "source": [
    "df_turkey_players[df_turkey_players['Player'] == 'Arturs Zagars']"
   ]
  },
  {
   "cell_type": "code",
   "execution_count": null,
   "metadata": {},
   "outputs": [],
   "source": [
    "df_turkey_players"
   ]
  },
  {
   "cell_type": "code",
   "execution_count": 3,
   "metadata": {},
   "outputs": [
    {
     "ename": "KeyError",
     "evalue": "'Position'",
     "output_type": "error",
     "traceback": [
      "\u001b[0;31m---------------------------------------------------------------------------\u001b[0m",
      "\u001b[0;31mKeyError\u001b[0m                                  Traceback (most recent call last)",
      "File \u001b[0;32m/opt/homebrew/Caskroom/miniconda/base/envs/nf_base/lib/python3.9/site-packages/pandas/core/indexes/base.py:3791\u001b[0m, in \u001b[0;36mIndex.get_loc\u001b[0;34m(self, key)\u001b[0m\n\u001b[1;32m   3790\u001b[0m \u001b[38;5;28;01mtry\u001b[39;00m:\n\u001b[0;32m-> 3791\u001b[0m     \u001b[38;5;28;01mreturn\u001b[39;00m \u001b[38;5;28;43mself\u001b[39;49m\u001b[38;5;241;43m.\u001b[39;49m\u001b[43m_engine\u001b[49m\u001b[38;5;241;43m.\u001b[39;49m\u001b[43mget_loc\u001b[49m\u001b[43m(\u001b[49m\u001b[43mcasted_key\u001b[49m\u001b[43m)\u001b[49m\n\u001b[1;32m   3792\u001b[0m \u001b[38;5;28;01mexcept\u001b[39;00m \u001b[38;5;167;01mKeyError\u001b[39;00m \u001b[38;5;28;01mas\u001b[39;00m err:\n",
      "File \u001b[0;32mindex.pyx:152\u001b[0m, in \u001b[0;36mpandas._libs.index.IndexEngine.get_loc\u001b[0;34m()\u001b[0m\n",
      "File \u001b[0;32mindex.pyx:181\u001b[0m, in \u001b[0;36mpandas._libs.index.IndexEngine.get_loc\u001b[0;34m()\u001b[0m\n",
      "File \u001b[0;32mpandas/_libs/hashtable_class_helper.pxi:7080\u001b[0m, in \u001b[0;36mpandas._libs.hashtable.PyObjectHashTable.get_item\u001b[0;34m()\u001b[0m\n",
      "File \u001b[0;32mpandas/_libs/hashtable_class_helper.pxi:7088\u001b[0m, in \u001b[0;36mpandas._libs.hashtable.PyObjectHashTable.get_item\u001b[0;34m()\u001b[0m\n",
      "\u001b[0;31mKeyError\u001b[0m: 'Position'",
      "\nThe above exception was the direct cause of the following exception:\n",
      "\u001b[0;31mKeyError\u001b[0m                                  Traceback (most recent call last)",
      "Cell \u001b[0;32mIn[3], line 2\u001b[0m\n\u001b[1;32m      1\u001b[0m \u001b[38;5;66;03m#renaming positions\u001b[39;00m\n\u001b[0;32m----> 2\u001b[0m df_Greek_players[\u001b[38;5;124m'\u001b[39m\u001b[38;5;124mPosition\u001b[39m\u001b[38;5;124m'\u001b[39m] \u001b[38;5;241m=\u001b[39m \u001b[43mdf_Greek_players\u001b[49m\u001b[43m[\u001b[49m\u001b[38;5;124;43m'\u001b[39;49m\u001b[38;5;124;43mPosition\u001b[39;49m\u001b[38;5;124;43m'\u001b[39;49m\u001b[43m]\u001b[49m\u001b[38;5;241m.\u001b[39mreplace([\u001b[38;5;124m'\u001b[39m\u001b[38;5;124mPG\u001b[39m\u001b[38;5;124m'\u001b[39m, \u001b[38;5;124m'\u001b[39m\u001b[38;5;124mSG\u001b[39m\u001b[38;5;124m'\u001b[39m], \u001b[38;5;124m'\u001b[39m\u001b[38;5;124mG\u001b[39m\u001b[38;5;124m'\u001b[39m)\n\u001b[1;32m      3\u001b[0m df_Greek_players[\u001b[38;5;124m'\u001b[39m\u001b[38;5;124mPosition\u001b[39m\u001b[38;5;124m'\u001b[39m] \u001b[38;5;241m=\u001b[39m df_Greek_players[\u001b[38;5;124m'\u001b[39m\u001b[38;5;124mPosition\u001b[39m\u001b[38;5;124m'\u001b[39m]\u001b[38;5;241m.\u001b[39mreplace([\u001b[38;5;124m'\u001b[39m\u001b[38;5;124mSF\u001b[39m\u001b[38;5;124m'\u001b[39m, \u001b[38;5;124m'\u001b[39m\u001b[38;5;124mPF\u001b[39m\u001b[38;5;124m'\u001b[39m], \u001b[38;5;124m'\u001b[39m\u001b[38;5;124mF\u001b[39m\u001b[38;5;124m'\u001b[39m)\n",
      "File \u001b[0;32m/opt/homebrew/Caskroom/miniconda/base/envs/nf_base/lib/python3.9/site-packages/pandas/core/frame.py:3893\u001b[0m, in \u001b[0;36mDataFrame.__getitem__\u001b[0;34m(self, key)\u001b[0m\n\u001b[1;32m   3891\u001b[0m \u001b[38;5;28;01mif\u001b[39;00m \u001b[38;5;28mself\u001b[39m\u001b[38;5;241m.\u001b[39mcolumns\u001b[38;5;241m.\u001b[39mnlevels \u001b[38;5;241m>\u001b[39m \u001b[38;5;241m1\u001b[39m:\n\u001b[1;32m   3892\u001b[0m     \u001b[38;5;28;01mreturn\u001b[39;00m \u001b[38;5;28mself\u001b[39m\u001b[38;5;241m.\u001b[39m_getitem_multilevel(key)\n\u001b[0;32m-> 3893\u001b[0m indexer \u001b[38;5;241m=\u001b[39m \u001b[38;5;28;43mself\u001b[39;49m\u001b[38;5;241;43m.\u001b[39;49m\u001b[43mcolumns\u001b[49m\u001b[38;5;241;43m.\u001b[39;49m\u001b[43mget_loc\u001b[49m\u001b[43m(\u001b[49m\u001b[43mkey\u001b[49m\u001b[43m)\u001b[49m\n\u001b[1;32m   3894\u001b[0m \u001b[38;5;28;01mif\u001b[39;00m is_integer(indexer):\n\u001b[1;32m   3895\u001b[0m     indexer \u001b[38;5;241m=\u001b[39m [indexer]\n",
      "File \u001b[0;32m/opt/homebrew/Caskroom/miniconda/base/envs/nf_base/lib/python3.9/site-packages/pandas/core/indexes/base.py:3798\u001b[0m, in \u001b[0;36mIndex.get_loc\u001b[0;34m(self, key)\u001b[0m\n\u001b[1;32m   3793\u001b[0m     \u001b[38;5;28;01mif\u001b[39;00m \u001b[38;5;28misinstance\u001b[39m(casted_key, \u001b[38;5;28mslice\u001b[39m) \u001b[38;5;129;01mor\u001b[39;00m (\n\u001b[1;32m   3794\u001b[0m         \u001b[38;5;28misinstance\u001b[39m(casted_key, abc\u001b[38;5;241m.\u001b[39mIterable)\n\u001b[1;32m   3795\u001b[0m         \u001b[38;5;129;01mand\u001b[39;00m \u001b[38;5;28many\u001b[39m(\u001b[38;5;28misinstance\u001b[39m(x, \u001b[38;5;28mslice\u001b[39m) \u001b[38;5;28;01mfor\u001b[39;00m x \u001b[38;5;129;01min\u001b[39;00m casted_key)\n\u001b[1;32m   3796\u001b[0m     ):\n\u001b[1;32m   3797\u001b[0m         \u001b[38;5;28;01mraise\u001b[39;00m InvalidIndexError(key)\n\u001b[0;32m-> 3798\u001b[0m     \u001b[38;5;28;01mraise\u001b[39;00m \u001b[38;5;167;01mKeyError\u001b[39;00m(key) \u001b[38;5;28;01mfrom\u001b[39;00m \u001b[38;5;21;01merr\u001b[39;00m\n\u001b[1;32m   3799\u001b[0m \u001b[38;5;28;01mexcept\u001b[39;00m \u001b[38;5;167;01mTypeError\u001b[39;00m:\n\u001b[1;32m   3800\u001b[0m     \u001b[38;5;66;03m# If we have a listlike key, _check_indexing_error will raise\u001b[39;00m\n\u001b[1;32m   3801\u001b[0m     \u001b[38;5;66;03m#  InvalidIndexError. Otherwise we fall through and re-raise\u001b[39;00m\n\u001b[1;32m   3802\u001b[0m     \u001b[38;5;66;03m#  the TypeError.\u001b[39;00m\n\u001b[1;32m   3803\u001b[0m     \u001b[38;5;28mself\u001b[39m\u001b[38;5;241m.\u001b[39m_check_indexing_error(key)\n",
      "\u001b[0;31mKeyError\u001b[0m: 'Position'"
     ]
    }
   ],
   "source": [
    "#renaming positions\n",
    "df_Greek_players['Position'] = df_Greek_players['Position'].replace(['PG', 'SG'], 'G')\n",
    "df_Greek_players['Position'] = df_Greek_players['Position'].replace(['SF', 'PF'], 'F')"
   ]
  },
  {
   "cell_type": "code",
   "execution_count": null,
   "metadata": {},
   "outputs": [],
   "source": [
    "#calculation for 100 possessions\n",
    "df.loc[:, 'GP':] = df.loc[:,'GP':].astype(float)\n",
    "df.loc[:, 'MPG':] = df.loc[:,'MPG':].mul(1.25)"
   ]
  },
  {
   "cell_type": "code",
   "execution_count": null,
   "metadata": {},
   "outputs": [],
   "source": [
    "def feet_to_meters(height):\n",
    "    if isinstance(height, str):  # Check if height is a string\n",
    "        try:\n",
    "            feet, inches = map(int, height.split('-'))\n",
    "            total_feet = feet + inches / 12  # Convert inches to feet\n",
    "            total_meters = total_feet * 0.3048  # Convert feet to meters\n",
    "            return round(total_meters, 2)  # Round to 2 decimals\n",
    "        except (ValueError, AttributeError):\n",
    "            return None  # Return None if there's an error in conversion or attribute access\n",
    "    else:\n",
    "        return None"
   ]
  },
  {
   "cell_type": "code",
   "execution_count": null,
   "metadata": {},
   "outputs": [],
   "source": [
    "df_turkey_players"
   ]
  },
  {
   "cell_type": "code",
   "execution_count": null,
   "metadata": {},
   "outputs": [],
   "source": [
    "df_turkey_players['HT'] = df_turkey_players['HT'].apply(feet_to_meters)"
   ]
  },
  {
   "cell_type": "code",
   "execution_count": null,
   "metadata": {},
   "outputs": [],
   "source": [
    "df_turkey_players"
   ]
  },
  {
   "cell_type": "code",
   "execution_count": null,
   "metadata": {},
   "outputs": [],
   "source": [
    "pd.set_option('display.max_rows', None)"
   ]
  },
  {
   "cell_type": "code",
   "execution_count": null,
   "metadata": {},
   "outputs": [],
   "source": [
    "df_turkey_players"
   ]
  },
  {
   "cell_type": "code",
   "execution_count": null,
   "metadata": {},
   "outputs": [],
   "source": [
    "df_turkey_players"
   ]
  },
  {
   "cell_type": "code",
   "execution_count": null,
   "metadata": {},
   "outputs": [],
   "source": [
    "def feet_to_meters(height):\n",
    "    if isinstance(height, str):\n",
    "        feet, inches = map(int, height.split('-'))\n",
    "        total_feet = feet + inches / 12  # Convert inches to feet\n",
    "        total_meters = total_feet * 0.3048  # Convert feet to meters\n",
    "        return round(total_meters, 2)  # Round to 2 decimals\n",
    "    else:\n",
    "        return None "
   ]
  },
  {
   "cell_type": "code",
   "execution_count": null,
   "metadata": {},
   "outputs": [],
   "source": [
    "#filtering for center\n",
    "#df_center = df[df['Position'] == 'C']\n",
    "#df_center_filtered = df_center[(df_center['RPG'] >= 13.0) & (df_center['BPG'] >= 2.0 ) & (df_center['APG'] >= 3.0)]"
   ]
  }
 ],
 "metadata": {
  "kernelspec": {
   "display_name": "nf_base",
   "language": "python",
   "name": "python3"
  },
  "language_info": {
   "codemirror_mode": {
    "name": "ipython",
    "version": 3
   },
   "file_extension": ".py",
   "mimetype": "text/x-python",
   "name": "python",
   "nbconvert_exporter": "python",
   "pygments_lexer": "ipython3",
   "version": "3.9.18"
  }
 },
 "nbformat": 4,
 "nbformat_minor": 2
}
