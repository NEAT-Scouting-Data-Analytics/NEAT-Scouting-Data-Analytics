{
 "cells": [
  {
   "cell_type": "code",
   "execution_count": null,
   "metadata": {},
   "outputs": [],
   "source": [
    "import pandas as pd\n",
    "from io import StringIO\n",
    "pd.set_option('display.max_columns', None)"
   ]
  },
  {
   "cell_type": "code",
   "execution_count": null,
   "metadata": {},
   "outputs": [],
   "source": [
    "#Import dataframe\n",
    "df_100pos = pd.read_csv('DataFiles/merged_df_100pos.csv', low_memory=False)"
   ]
  },
  {
   "cell_type": "code",
   "execution_count": null,
   "metadata": {},
   "outputs": [],
   "source": [
    "def feet_to_meters(height):\n",
    "    if isinstance(height, str):\n",
    "        feet, inches = map(int, height.split('-'))\n",
    "        total_feet = feet + inches / 12  # Convert inches to feet\n",
    "        total_meters = total_feet * 0.3048  # Convert feet to meters\n",
    "        return round(total_meters, 2)  # Round to 2 decimals\n",
    "    else:\n",
    "        return None  # Handle missing or invalid values"
   ]
  },
  {
   "cell_type": "code",
   "execution_count": null,
   "metadata": {},
   "outputs": [],
   "source": [
    "# Apply the function to convert heights\n",
    "df_100pos['PLAYER_HEIGHT_METERS'] = df_100pos['HEIGHT'].apply(feet_to_meters)"
   ]
  },
  {
   "cell_type": "code",
   "execution_count": null,
   "metadata": {},
   "outputs": [],
   "source": [
    "# Adding additional advanced metric columns\n",
    "\n",
    "# Shooting efficiency \n",
    "df_100pos['FG3A%'] = df_100pos['FG3A'] / df_100pos['FGA']\n",
    "df_100pos['PTS/FGA'] = df_100pos['PTS'] / df_100pos['FGA']\n",
    "df_100pos['FG3M/FGM'] = df_100pos['FG3M'] / df_100pos['FGM']\n",
    "df_100pos['FTA/FGA'] = df_100pos['FTA'] / df_100pos['FGA']\n",
    "\n",
    "# True Shooting Percentage\n",
    "df_100pos['TRU%'] = 0.5 * df_100pos['PTS'] / (df_100pos['FGA'] + 0.475 * df_100pos['FTA'])\n",
    "\n",
    "# Assists to Turnover Ratio\n",
    "df_100pos['AST_TOV'] = df_100pos['AST'] / df_100pos['TOV']\n",
    "\n",
    "df_100pos[(df_100pos['PLAYER_NAME'] == 'Vlade Divac')]"
   ]
  },
  {
   "cell_type": "code",
   "execution_count": null,
   "metadata": {},
   "outputs": [],
   "source": [
    "# Replacing intermediary positions with one. All in all there are 3 positions - C, F and G. \n",
    "df_100pos['POSITION'] = df_100pos['POSITION'].str.replace('F-C', 'F').replace('C-F', 'C').replace('F-G', 'F').replace('G-F', 'G')"
   ]
  },
  {
   "cell_type": "code",
   "execution_count": null,
   "metadata": {},
   "outputs": [],
   "source": [
    "# European countries in basketball sense\n",
    "europe = ['Austria', 'Belgium', 'Bulgaria', 'Croatia', 'Cyprus', 'Czech Republic', 'Denmark',\n",
    "  'Estonia', 'Finland', 'France', 'Germany', 'Greece', 'Hungary', 'Ireland',\n",
    "  'Italy', 'Latvia', 'Lithuania', 'Luxembourg', 'Malta', 'Netherlands',\n",
    "  'Poland', 'Portugal', 'Romania', 'Slovakia', 'Slovenia', 'Spain', 'Sweden', \n",
    "  'United Kingdom', 'Norway', 'Switzerland', 'Belarus', 'Russia', 'Ukraine',\n",
    "  'Moldova', 'Georgia', 'Armenia', 'Azerbaijan', 'Turkey', 'Israel', 'Albania',\n",
    "  'North Macedonia', 'Serbia', 'Montenegro', 'Bosnia and Herzegovina', 'Iceland']"
   ]
  },
  {
   "cell_type": "code",
   "execution_count": null,
   "metadata": {},
   "outputs": [],
   "source": [
    "# Define function for European countries\n",
    "def filter_europe(df, column_name, europe):\n",
    "    return df[df[column_name].isin(europe)]"
   ]
  },
  {
   "cell_type": "code",
   "execution_count": null,
   "metadata": {},
   "outputs": [],
   "source": [
    "# Define function for non-european countries\n",
    "def filter_non_europe(df, column_name='COUNTRY', country_list=europe):\n",
    "    return df[~df[column_name].isin(europe)]"
   ]
  },
  {
   "cell_type": "code",
   "execution_count": null,
   "metadata": {},
   "outputs": [],
   "source": [
    "# Number of positions per unique European player:\n",
    "df_100pos.groupby('POSITION')['PLAYER_ID'].nunique()"
   ]
  },
  {
   "cell_type": "code",
   "execution_count": null,
   "metadata": {},
   "outputs": [],
   "source": [
    "filter_non_europe\n",
    "\n",
    "df_100pos.groupby(df_100pos['COUNTRY'] == 'Netherlands')\n",
    "df_100pos\n"
   ]
  },
  {
   "cell_type": "code",
   "execution_count": null,
   "metadata": {},
   "outputs": [],
   "source": [
    "# Number of positions per unique US player:\n",
    "non_europe_C.groupby('POSITION')['PLAYER_ID'].nunique()"
   ]
  },
  {
   "cell_type": "code",
   "execution_count": null,
   "metadata": {},
   "outputs": [],
   "source": [
    "import altair as alt\n",
    "import pandas as pd\n",
    "import altair_saver\n",
    "\n",
    "\n",
    "# Annahme: Sie haben zwei DataFrames: data_per_min_europe_regular und data_per_min_usa_regular\n",
    "\n",
    "# Fügen Sie eine neue Spalte hinzu, um anzuzeigen, ob der Spieler Europäer ist oder nicht\n",
    "europe_C['Europe'] = 'European'\n",
    "non_europe_C['Europe'] = 'Non-European'\n",
    "\n",
    "# Kombinieren Sie die beiden DataFrames\n",
    "combined_df = pd.concat([europe_C, non_europe_C])\n",
    "\n",
    "# Liste der Metriken, die geplottet werden sollen\n",
    "metrics = ['FGM', 'FGA', 'FG3M', 'FG3A', 'FTM', 'FTA', \n",
    "           'OREB', 'DREB', 'REB', 'AST', 'STL', 'BLK', 'TOV', \n",
    "           'PF', 'PTS', 'FG3A%', 'PTS/FGA', 'FG3M/FGM', 'FTA/FGA', \n",
    "           'TRU%', 'AST_TOV', 'PLAYER_HEIGHT_METERS']\n",
    "\n",
    "# Liste zum Speichern der Diagramme\n",
    "charts = []\n",
    "\n",
    "# Einen Bruchteil des kombinierten DataFrame auswählen\n",
    "sampled_df = combined_df.sample(frac=0.5)  # Passen Sie den Bruchteil bei Bedarf an\n",
    "\n",
    "# Für jede Metrik ein gruppiertes Balkendiagramm erstellen und die Diagramme in eine Liste speichern\n",
    "for metric in metrics:\n",
    "    chart = alt.Chart(sampled_df).mark_bar().encode(\n",
    "        x=alt.X('Europe:N', title='Europe'),\n",
    "        y=alt.Y(f'mean({metric}):Q', title=f'Average {metric}'),\n",
    "        color=alt.Color('Europe:N', legend=alt.Legend(title='Europe'))\n",
    "    ).properties(\n",
    "        title=f'Average {metric} by Europe',\n",
    "        width=400,\n",
    "        height=300\n",
    "    )\n",
    "    charts.append(chart)\n",
    "\n",
    "# Diagramme in sechs Zeilen stapeln\n",
    "alt_row = alt.vconcat(*[alt.hconcat(*charts[i:i+4]) for i in range(0, len(charts), 4)])\n",
    "\n",
    "# Die Diagramme anzeigen\n",
    "alt_row\n"
   ]
  },
  {
   "cell_type": "code",
   "execution_count": null,
   "metadata": {},
   "outputs": [],
   "source": [
    "## Bar chart of centers per country since 1996\n",
    "\n",
    "import matplotlib.pyplot as plt\n",
    "import seaborn as sns\n",
    "import matplotlib.ticker as ticker\n",
    "import numpy as np\n",
    "\n",
    "# Season count per country per player:\n",
    "above_avg_C = europe_C.groupby('COUNTRY')['PLAYER_NAME'].nunique().reset_index()\n",
    "\n",
    "# Sort the DataFrame by 'Unique Player Count' in descending order\n",
    "above_avg_C = above_avg_C.sort_values(by='PLAYER_NAME', ascending=False)\n",
    "\n",
    "fig, ax = plt.subplots(figsize=(10, 6))\n",
    "\n",
    "sns.barplot(x='COUNTRY', y=\"PLAYER_NAME\", data=above_avg_C, palette='rocket', linewidth=2)  # Create a count plot\n",
    "\n",
    "plt.xticks(rotation=80)  # Rotate x-axis labels for better readability with many countries\n",
    "\n",
    "plt.title(\"European Centers in NBA in 1996\", weight='bold', fontsize=16)\n",
    "plt.xlabel(\"Country\", rotation=0, labelpad=20, weight='bold', fontsize=12)\n",
    "plt.ylabel(\"Count\", rotation=0, labelpad=20, weight='bold', fontsize=12)\n",
    "plt.ylim(ymin=0)        # Start y-axis at zero\n",
    "\n",
    "# Set the y-axis to show only integer ticks\n",
    "plt.gca().yaxis.set_major_locator(ticker.MaxNLocator(integer=True))\n",
    "\n",
    "\n",
    "plt.grid(axis='y', linestyle='--', alpha=0.7)  # Add grid lines with style\n",
    "\n",
    "plt.tight_layout()  # Adjust spacing for better readability\n",
    "\n",
    "plt.show()  # Display the plot"
   ]
  },
  {
   "cell_type": "code",
   "execution_count": null,
   "metadata": {},
   "outputs": [],
   "source": [
    "## Bar chart of centers with above average stats\n",
    "\n",
    "import matplotlib.pyplot as plt\n",
    "import seaborn as sns\n",
    "import matplotlib.ticker as ticker\n",
    "import numpy as np\n",
    "\n",
    "\n",
    "# Step 1: Filter 'europe_C' based on the above AVG metrics for Centers:\n",
    "filtered_df = europe_C[(europe_C['REB'] >= 13.0) & (europe_C['BLK'] >= 2.0) & (europe_C['AST'] >= 3.0)]\n",
    "\n",
    "# Season count per country per player:\n",
    "above_avg_C = filtered_df.groupby('COUNTRY')['PLAYER_NAME'].nunique().reset_index()\n",
    "\n",
    "# Sort the DataFrame by 'Unique Player Count' in descending order\n",
    "above_avg_C = above_avg_C.sort_values(by='PLAYER_NAME', ascending=False)\n",
    "\n",
    "\n",
    "fig, ax = plt.subplots(figsize=(10, 6))\n",
    "\n",
    "sns.barplot(x='COUNTRY', y=\"PLAYER_NAME\", data=above_avg_C, palette='rocket', linewidth=2)  # Create a count plot\n",
    "\n",
    "plt.xticks(rotation=80)  # Rotate x-axis labels for better readability with many countries\n",
    "\n",
    "plt.title(\"European Centers in NBA with > AVG Stats since 1996\", weight='bold', fontsize=16)\n",
    "plt.xlabel(\"Country\", rotation=0, labelpad=20, weight='bold', fontsize=12)\n",
    "plt.ylabel(\"Count\", rotation=0, labelpad=20, weight='bold', fontsize=12)\n",
    "plt.ylim(ymin=0)\n",
    "plt.ylim(ymax=4)           # Start y-axis at zero\n",
    "\n",
    "# Set the y-axis to show only integer ticks\n",
    "plt.gca().yaxis.set_major_locator(ticker.MaxNLocator(integer=True))\n",
    "\n",
    "\n",
    "plt.grid(axis='y', linestyle='--', alpha=0.7)  # Add grid lines with style\n",
    "\n",
    "plt.tight_layout()  # Adjust spacing for better readability\n",
    "\n",
    "plt.show()  # Display the plot"
   ]
  }
 ],
 "metadata": {
  "kernelspec": {
   "display_name": "nf_sql",
   "language": "python",
   "name": "python3"
  },
  "language_info": {
   "codemirror_mode": {
    "name": "ipython",
    "version": 3
   },
   "file_extension": ".py",
   "mimetype": "text/x-python",
   "name": "python",
   "nbconvert_exporter": "python",
   "pygments_lexer": "ipython3",
   "version": "3.9.18"
  }
 },
 "nbformat": 4,
 "nbformat_minor": 2
}
